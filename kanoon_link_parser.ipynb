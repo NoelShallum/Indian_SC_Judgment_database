{
 "cells": [
  {
   "cell_type": "code",
   "execution_count": null,
   "metadata": {},
   "outputs": [],
   "source": [
    "import requests\n",
    "import re\n",
    "from bs4 import BeautifulSoup as bs\n",
    "from requests_html import HTMLSession\n",
    "import json\n",
    "import time"
   ]
  },
  {
   "cell_type": "code",
   "execution_count": null,
   "metadata": {},
   "outputs": [],
   "source": [
    "# This file is for crawling indiankanoon and collecting all links"
   ]
  },
  {
   "cell_type": "code",
   "execution_count": null,
   "metadata": {},
   "outputs": [],
   "source": [
    "URL = 'https://indiankanoon.org/browse/' # url of site from where we are scraping\n",
    "page = s.get(URL) # sending a request to the url\n",
    "soup = bs(page.content, 'html.parser')\n",
    "print(page.status_code)\n",
    "results = soup.find_all('div',{'class':'browselist'})\n",
    "results = list(results[0:1])\n",
    "links = {}\n",
    "no_of_pages = list(range(100))\n",
    "base = 'https://indiankanoon.org'\n",
    "f=open('SC_links.txt','w')\n",
    "for link in results: # loop for multiple courts, if scraping data from multiple courts\n",
    "    print('start')\n",
    "    linkd = link.find('a')['href']\n",
    "    court_name = link.find('a').text\n",
    "    URL = base+linkd\n",
    "    page = s.get(URL)\n",
    "    soup = bs(page.content, 'html.parser')\n",
    "    result_new = soup.find_all('div',{'class': 'browselist'})\n",
    "    links[court_name] = []\n",
    "    for link_new in result_new: # loop for every year\n",
    "        print((link_new.find('a').text) + \" Year Started .....\\n\")\n",
    "        if((int)(link_new.find('a').text) < 1980 or (int)(link_new.find('a').text) > 1990):\n",
    "            continue\n",
    "        URL = base + link_new.find('a')['href']\n",
    "        page = s.get(URL)\n",
    "        soup = bs(page.content, 'html.parser')\n",
    "        result_new2 = soup.find_all('div',{'class':'browselist'})\n",
    "        for link_new2 in result_new2: # loop for every month\n",
    "            for page_in in no_of_pages: # loop for every page\n",
    "                URL = base + link_new2.find('a')['href']\n",
    "                URL = URL + '&pagenum={}'.format(page_in)\n",
    "                URL=URL.replace(' ','%20')\n",
    "                page = s.get(URL)\n",
    "                soup = bs(page.content, 'html.parser')\n",
    "                result_new3=soup.find_all('a',{'class':'cite_tag'})   #<--- I don't know but they changed class I guess, so you have to access it like this now\n",
    "                for i in result_new3:\n",
    "                    if i.text.lower()=='full document':\n",
    "                        URL=base+i['href']\n",
    "                        f.write(URL+'\\n')\n",
    "                        links[court_name].append(URL)\n",
    "                if(len(result_new3) == 0):\n",
    "                    break\n",
    "\n",
    "        print(\"Current Year Completed\\n\")\n",
    "\n",
    "f.close()\n",
    "valid_court_name = ['Supreme Court of India']\n",
    "\n",
    "final_list = {}\n",
    "for court_name in valid_court_name:\n",
    "  final_list[court_name] = links[court_name]\n",
    "\n",
    "json_object = json.dumps(final_list, indent = 4) \n",
    "\n",
    "# saving the dictionary with links in a json file\n",
    "with open(\"links_Supreme_Court.json\", \"w\") as outfile:  \n",
    "    outfile.write(json_object)"
   ]
  }
 ],
 "metadata": {
  "kernelspec": {
   "display_name": "Python 3",
   "language": "python",
   "name": "python3"
  },
  "language_info": {
   "codemirror_mode": {
    "name": "ipython",
    "version": 3
   },
   "file_extension": ".py",
   "mimetype": "text/x-python",
   "name": "python",
   "nbconvert_exporter": "python",
   "pygments_lexer": "ipython3",
   "version": "3.8.10"
  }
 },
 "nbformat": 4,
 "nbformat_minor": 4
}
